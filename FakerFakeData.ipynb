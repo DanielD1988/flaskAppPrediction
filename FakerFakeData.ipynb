{
 "cells": [
  {
   "cell_type": "code",
   "execution_count": 37,
   "id": "c86d888f",
   "metadata": {},
   "outputs": [],
   "source": [
    "#Name Daniel Dinelli\n",
    "#Student Number C00242741\n",
    "# looked at https://faker.readthedocs.io/en/master/"
   ]
  },
  {
   "cell_type": "code",
   "execution_count": 38,
   "id": "2f4fc43d",
   "metadata": {},
   "outputs": [],
   "source": [
    "import pandas as pd "
   ]
  },
  {
   "cell_type": "code",
   "execution_count": 39,
   "id": "6b8310eb",
   "metadata": {},
   "outputs": [],
   "source": [
    "import numpy as np"
   ]
  },
  {
   "cell_type": "code",
   "execution_count": 40,
   "id": "fa762562",
   "metadata": {},
   "outputs": [],
   "source": [
    "from faker.providers import DynamicProvider"
   ]
  },
  {
   "cell_type": "code",
   "execution_count": 41,
   "id": "1fd30ca2",
   "metadata": {},
   "outputs": [],
   "source": [
    "from faker import Faker"
   ]
  },
  {
   "cell_type": "code",
   "execution_count": 42,
   "id": "2c81ec76",
   "metadata": {},
   "outputs": [],
   "source": [
    "import seaborn as sns"
   ]
  },
  {
   "cell_type": "code",
   "execution_count": 43,
   "id": "19ebea0f",
   "metadata": {},
   "outputs": [],
   "source": [
    "fake = Faker()\n",
    "#Use DynamicProvider to generate my own fake data"
   ]
  },
  {
   "cell_type": "code",
   "execution_count": 44,
   "id": "da7febd3",
   "metadata": {},
   "outputs": [],
   "source": [
    "skillLevel = DynamicProvider(\n",
    "     provider_name=\"Skill_Level\",\n",
    "     elements=[\"Casual\",\"amateur\",\"professional\"],\n",
    ")\n",
    "fake.add_provider(skillLevel)"
   ]
  },
  {
   "cell_type": "code",
   "execution_count": 45,
   "id": "99a40a66",
   "metadata": {},
   "outputs": [],
   "source": [
    "InjuredBefore = DynamicProvider(\n",
    "     provider_name=\"Injured_Before\",\n",
    "     elements=[\"yes\",\"no\"],\n",
    ")\n",
    "fake.add_provider(InjuredBefore)"
   ]
  },
  {
   "cell_type": "code",
   "execution_count": 46,
   "id": "1f9a19ec",
   "metadata": {},
   "outputs": [],
   "source": [
    "age = DynamicProvider(\n",
    "     provider_name=\"Age\",\n",
    "     elements=[\"0-18\",\"18-36\",\"36-50\",\"50-65\",\"65-80\"],\n",
    ")\n",
    "fake.add_provider(age)"
   ]
  },
  {
   "cell_type": "code",
   "execution_count": 47,
   "id": "b1472241",
   "metadata": {},
   "outputs": [],
   "source": [
    "gender = DynamicProvider(\n",
    "     provider_name=\"Gender\",\n",
    "     elements=[\"M\",\"F\"],\n",
    ")\n",
    "fake.add_provider(gender)"
   ]
  },
  {
   "cell_type": "code",
   "execution_count": 48,
   "id": "096d74df",
   "metadata": {},
   "outputs": [],
   "source": [
    "activity = DynamicProvider(\n",
    "     provider_name=\"Activity\",\n",
    "     elements=['Rugby', 'Soccer','Gym','Jogging','Hockey','Weightlifting','Dancing','Tennis','Golf','Horse Riding','Skateboarding','Cycling'],\n",
    ")\n",
    "fake.add_provider(activity)"
   ]
  },
  {
   "cell_type": "code",
   "execution_count": 49,
   "id": "d98f62f3",
   "metadata": {},
   "outputs": [],
   "source": [
    "Injury_type = DynamicProvider(\n",
    "     provider_name=\"injury_type\",\n",
    "     elements=['Sprains', 'Strains','Lower Back Pain','Plantar Fasciitis','Shin Splints'],\n",
    ")\n",
    "fake.add_provider(Injury_type)"
   ]
  },
  {
   "cell_type": "code",
   "execution_count": 50,
   "id": "45fd0759",
   "metadata": {},
   "outputs": [],
   "source": [
    "n = 30000\n",
    "df = pd.DataFrame([[\n",
    "        fake.Skill_Level(),\n",
    "        fake.Injured_Before(),\n",
    "        fake.Age(),\n",
    "        fake.Gender(),\n",
    "        fake.Activity(),\n",
    "        fake.injury_type(),\n",
    "        ] for _ in range(n)],\n",
    "        columns=['Skill Level','Injured Before','Age', 'Gender','Activity','injury type'])"
   ]
  },
  {
   "cell_type": "code",
   "execution_count": 51,
   "id": "ed6bdc44",
   "metadata": {},
   "outputs": [
    {
     "data": {
      "text/html": [
       "<div>\n",
       "<style scoped>\n",
       "    .dataframe tbody tr th:only-of-type {\n",
       "        vertical-align: middle;\n",
       "    }\n",
       "\n",
       "    .dataframe tbody tr th {\n",
       "        vertical-align: top;\n",
       "    }\n",
       "\n",
       "    .dataframe thead th {\n",
       "        text-align: right;\n",
       "    }\n",
       "</style>\n",
       "<table border=\"1\" class=\"dataframe\">\n",
       "  <thead>\n",
       "    <tr style=\"text-align: right;\">\n",
       "      <th></th>\n",
       "      <th>Skill Level</th>\n",
       "      <th>Injured Before</th>\n",
       "      <th>Age</th>\n",
       "      <th>Gender</th>\n",
       "      <th>Activity</th>\n",
       "      <th>injury type</th>\n",
       "    </tr>\n",
       "  </thead>\n",
       "  <tbody>\n",
       "    <tr>\n",
       "      <th>0</th>\n",
       "      <td>professional</td>\n",
       "      <td>no</td>\n",
       "      <td>50-65</td>\n",
       "      <td>M</td>\n",
       "      <td>Tennis</td>\n",
       "      <td>Shin Splints</td>\n",
       "    </tr>\n",
       "    <tr>\n",
       "      <th>1</th>\n",
       "      <td>amateur</td>\n",
       "      <td>no</td>\n",
       "      <td>18-36</td>\n",
       "      <td>M</td>\n",
       "      <td>Golf</td>\n",
       "      <td>Lower Back Pain</td>\n",
       "    </tr>\n",
       "    <tr>\n",
       "      <th>2</th>\n",
       "      <td>amateur</td>\n",
       "      <td>no</td>\n",
       "      <td>36-50</td>\n",
       "      <td>M</td>\n",
       "      <td>Dancing</td>\n",
       "      <td>Sprains</td>\n",
       "    </tr>\n",
       "    <tr>\n",
       "      <th>3</th>\n",
       "      <td>amateur</td>\n",
       "      <td>yes</td>\n",
       "      <td>0-18</td>\n",
       "      <td>M</td>\n",
       "      <td>Tennis</td>\n",
       "      <td>Strains</td>\n",
       "    </tr>\n",
       "    <tr>\n",
       "      <th>4</th>\n",
       "      <td>professional</td>\n",
       "      <td>yes</td>\n",
       "      <td>36-50</td>\n",
       "      <td>F</td>\n",
       "      <td>Horse Riding</td>\n",
       "      <td>Sprains</td>\n",
       "    </tr>\n",
       "    <tr>\n",
       "      <th>...</th>\n",
       "      <td>...</td>\n",
       "      <td>...</td>\n",
       "      <td>...</td>\n",
       "      <td>...</td>\n",
       "      <td>...</td>\n",
       "      <td>...</td>\n",
       "    </tr>\n",
       "    <tr>\n",
       "      <th>29995</th>\n",
       "      <td>professional</td>\n",
       "      <td>yes</td>\n",
       "      <td>50-65</td>\n",
       "      <td>M</td>\n",
       "      <td>Skateboarding</td>\n",
       "      <td>Strains</td>\n",
       "    </tr>\n",
       "    <tr>\n",
       "      <th>29996</th>\n",
       "      <td>amateur</td>\n",
       "      <td>no</td>\n",
       "      <td>65-80</td>\n",
       "      <td>F</td>\n",
       "      <td>Hockey</td>\n",
       "      <td>Shin Splints</td>\n",
       "    </tr>\n",
       "    <tr>\n",
       "      <th>29997</th>\n",
       "      <td>Casual</td>\n",
       "      <td>yes</td>\n",
       "      <td>0-18</td>\n",
       "      <td>M</td>\n",
       "      <td>Gym</td>\n",
       "      <td>Lower Back Pain</td>\n",
       "    </tr>\n",
       "    <tr>\n",
       "      <th>29998</th>\n",
       "      <td>professional</td>\n",
       "      <td>no</td>\n",
       "      <td>65-80</td>\n",
       "      <td>F</td>\n",
       "      <td>Rugby</td>\n",
       "      <td>Plantar Fasciitis</td>\n",
       "    </tr>\n",
       "    <tr>\n",
       "      <th>29999</th>\n",
       "      <td>professional</td>\n",
       "      <td>yes</td>\n",
       "      <td>50-65</td>\n",
       "      <td>M</td>\n",
       "      <td>Dancing</td>\n",
       "      <td>Lower Back Pain</td>\n",
       "    </tr>\n",
       "  </tbody>\n",
       "</table>\n",
       "<p>30000 rows × 6 columns</p>\n",
       "</div>"
      ],
      "text/plain": [
       "        Skill Level Injured Before    Age Gender       Activity  \\\n",
       "0      professional             no  50-65      M         Tennis   \n",
       "1           amateur             no  18-36      M           Golf   \n",
       "2           amateur             no  36-50      M        Dancing   \n",
       "3           amateur            yes   0-18      M         Tennis   \n",
       "4      professional            yes  36-50      F   Horse Riding   \n",
       "...             ...            ...    ...    ...            ...   \n",
       "29995  professional            yes  50-65      M  Skateboarding   \n",
       "29996       amateur             no  65-80      F         Hockey   \n",
       "29997        Casual            yes   0-18      M            Gym   \n",
       "29998  professional             no  65-80      F          Rugby   \n",
       "29999  professional            yes  50-65      M        Dancing   \n",
       "\n",
       "             injury type  \n",
       "0           Shin Splints  \n",
       "1        Lower Back Pain  \n",
       "2                Sprains  \n",
       "3                Strains  \n",
       "4                Sprains  \n",
       "...                  ...  \n",
       "29995            Strains  \n",
       "29996       Shin Splints  \n",
       "29997    Lower Back Pain  \n",
       "29998  Plantar Fasciitis  \n",
       "29999    Lower Back Pain  \n",
       "\n",
       "[30000 rows x 6 columns]"
      ]
     },
     "execution_count": 51,
     "metadata": {},
     "output_type": "execute_result"
    }
   ],
   "source": [
    "df"
   ]
  },
  {
   "cell_type": "code",
   "execution_count": 52,
   "id": "64a0e0c5",
   "metadata": {},
   "outputs": [],
   "source": [
    "df.to_csv('newinjuryData.csv')"
   ]
  },
  {
   "cell_type": "code",
   "execution_count": 53,
   "id": "bf719ba1",
   "metadata": {},
   "outputs": [
    {
     "data": {
      "image/png": "[encoded data removed]",
      "text/plain": [
       "<Figure size 432x288 with 1 Axes>"
      ]
     },
     "metadata": {},
     "output_type": "display_data"
    }
   ],
   "source": [
    "#visualize data that was created\n",
    "sns.set_theme(style=\"darkgrid\")\n",
    "titanic = sns.load_dataset(\"titanic\")\n",
    "ax = sns.countplot(x=\"injury type\", data=df)"
   ]
  },
  {
   "cell_type": "code",
   "execution_count": 54,
   "id": "ba072ef2",
   "metadata": {},
   "outputs": [
    {
     "data": {
      "image/png": "[encoded data removed]",
      "text/plain": [
       "<Figure size 432x288 with 1 Axes>"
      ]
     },
     "metadata": {},
     "output_type": "display_data"
    }
   ],
   "source": [
    "sns.set_theme(style=\"darkgrid\")\n",
    "titanic = sns.load_dataset(\"titanic\")\n",
    "ax = sns.countplot(x=\"Skill Level\", data=df)"
   ]
  },
  {
   "cell_type": "code",
   "execution_count": 55,
   "id": "d1dfd84c",
   "metadata": {},
   "outputs": [
    {
     "data": {
      "image/png": "[encoded data removed]",
      "text/plain": [
       "<Figure size 432x288 with 1 Axes>"
      ]
     },
     "metadata": {},
     "output_type": "display_data"
    }
   ],
   "source": [
    "sns.set_theme(style=\"darkgrid\")\n",
    "titanic = sns.load_dataset(\"titanic\")\n",
    "ax = sns.countplot(x=\"Injured Before\", data=df)"
   ]
  },
  {
   "cell_type": "code",
   "execution_count": 56,
   "id": "63f5a901",
   "metadata": {},
   "outputs": [
    {
     "data": {
      "image/png": "[encoded data removed]",
      "text/plain": [
       "<Figure size 432x288 with 1 Axes>"
      ]
     },
     "metadata": {},
     "output_type": "display_data"
    }
   ],
   "source": [
    "sns.set_theme(style=\"darkgrid\")\n",
    "titanic = sns.load_dataset(\"titanic\")\n",
    "ax = sns.countplot(x=\"Age\", data=df)"
   ]
  },
  {
   "cell_type": "code",
   "execution_count": 57,
   "id": "d2cadbc5",
   "metadata": {},
   "outputs": [
    {
     "data": {
      "image/png": "[encoded data removed]",
      "text/plain": [
       "<Figure size 432x288 with 1 Axes>"
      ]
     },
     "metadata": {},
     "output_type": "display_data"
    }
   ],
   "source": [
    "sns.set_theme(style=\"darkgrid\")\n",
    "titanic = sns.load_dataset(\"titanic\")\n",
    "ax = sns.countplot(x=\"Gender\", data=df)"
   ]
  },
  {
   "cell_type": "code",
   "execution_count": 58,
   "id": "dbbd9422",
   "metadata": {},
   "outputs": [
    {
     "data": {
      "image/png": "[encoded data removed]",
      "text/plain": [
       "<Figure size 432x288 with 1 Axes>"
      ]
     },
     "metadata": {},
     "output_type": "display_data"
    }
   ],
   "source": [
    "sns.set_theme(style=\"darkgrid\")\n",
    "titanic = sns.load_dataset(\"titanic\")\n",
    "ax = sns.countplot(x=\"Activity\", data=df)"
   ]
  },
  {
   "cell_type": "code",
   "execution_count": null,
   "id": "292d499d",
   "metadata": {},
   "outputs": [],
   "source": []
  }
 ],
 "metadata": {
  "kernelspec": {
   "display_name": "Python 3",
   "language": "python",
   "name": "python3"
  },
  "language_info": {
   "codemirror_mode": {
    "name": "ipython",
    "version": 3
   },
   "file_extension": ".py",
   "mimetype": "text/x-python",
   "name": "python",
   "nbconvert_exporter": "python",
   "pygments_lexer": "ipython3",
   "version": "3.8.8"
  }
 },
 "nbformat": 4,
 "nbformat_minor": 5
}
